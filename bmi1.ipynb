{
  "nbformat": 4,
  "nbformat_minor": 0,
  "metadata": {
    "colab": {
      "name": "Untitled1.ipynb",
      "provenance": [],
      "authorship_tag": "ABX9TyNeBMxhXrt4JIStzIRPi8cl",
      "include_colab_link": true
    },
    "kernelspec": {
      "name": "python3",
      "display_name": "Python 3"
    },
    "language_info": {
      "name": "python"
    }
  },
  "cells": [
    {
      "cell_type": "markdown",
      "metadata": {
        "id": "view-in-github",
        "colab_type": "text"
      },
      "source": [
        "<a href=\"https://colab.research.google.com/github/MercyCherotich/ML-PROJECTS/blob/main/bmi1.ipynb\" target=\"_parent\"><img src=\"https://colab.research.google.com/assets/colab-badge.svg\" alt=\"Open In Colab\"/></a>"
      ]
    },
    {
      "cell_type": "code",
      "metadata": {
        "id": "6IQ9UYUietrC"
      },
      "source": [
        "import pandas as pd\n",
        "import numpy as np\n",
        "from sklearn import datasets, linear_model\n",
        "from sklearn.metrics import accuracy_score\n",
        "import matplotlib.pyplot as plt"
      ],
      "execution_count": 1,
      "outputs": []
    },
    {
      "cell_type": "code",
      "metadata": {
        "id": "TE0MwlZwe56v"
      },
      "source": [
        "class GenerateData:\n",
        "    \n",
        "    def height(self):\n",
        "        high = 220\n",
        "        low = 150\n",
        "        df = pd.DataFrame(np.random.randint(low, high, size=(100, 1)), columns=[\"height\"])\n",
        "        df.to_csv(\"height.csv\", index=False)\n",
        "        return True\n",
        "    \n",
        "    def weight(self):\n",
        "        high = 200\n",
        "        low = 40\n",
        "        df = pd.DataFrame(np.random.randint(low, high, size=(100, 1)), columns=[\"weight\"])\n",
        "        df.to_csv(\"weight.csv\", index=False)\n",
        "        return True\n",
        "    \n",
        "    def exercise(self):\n",
        "        ccc = [1, 0]\n",
        "        df = pd.DataFrame(np.random.choice(ccc, size=100),columns=['Exercise'])\n",
        "        df.to_csv(\"exercise.csv\", index=False)\n",
        "        return True\n",
        "    \n",
        "    def diet(self):\n",
        "        ccc = [1, 0]\n",
        "        df = pd.DataFrame(np.random.choice(ccc, size=100),columns=['Diet'])\n",
        "        df.to_csv(\"diet.csv\", index=False)\n",
        "        return True\n",
        "        \"\"\"\n",
        "    def bmi(self):\n",
        "        low = 18\n",
        "        high = 33\n",
        "        df = pd.DataFrame(np.random.randint(low, high, size=(100, 1)), columns=[\"BMI\"])\n",
        "        df.to_csv(\"bmi.csv\", index=False)\n",
        "        return True\"\"\"\n",
        "        #pass\n",
        "        "
      ],
      "execution_count": 11,
      "outputs": []
    },
    {
      "cell_type": "code",
      "metadata": {
        "colab": {
          "base_uri": "https://localhost:8080/"
        },
        "id": "6lMjm4Psfgms",
        "outputId": "ac19a47e-460c-4fe5-f175-78c762411a0b"
      },
      "source": [
        "gg = GenerateData()\n",
        "gg.height()\n",
        "gg.weight()\n",
        "gg.exercise()\n",
        "gg.diet()\n"
      ],
      "execution_count": 13,
      "outputs": [
        {
          "output_type": "execute_result",
          "data": {
            "text/plain": [
              "True"
            ]
          },
          "metadata": {
            "tags": []
          },
          "execution_count": 13
        }
      ]
    },
    {
      "cell_type": "code",
      "metadata": {
        "colab": {
          "base_uri": "https://localhost:8080/"
        },
        "id": "tsEgDrJBfqLi",
        "outputId": "c244e8b1-ca87-48e5-b7ca-3445a3745e54"
      },
      "source": [
        "height = pd.read_csv(\"height.csv\")\n",
        "weight = pd.read_csv(\"weight.csv\")\n",
        "exercise = pd.read_csv(\"exercise.csv\")\n",
        "diet = pd.read_csv(\"diet.csv\")\n",
        "#bmi = pd.read_csv(\"bmi.csv\")\n",
        "\n",
        "dfheight = pd.DataFrame(height)\n",
        "dfweight = pd.DataFrame(weight)\n",
        "dfexercise = pd.DataFrame(exercise)\n",
        "dfdiet = pd.DataFrame(diet)\n",
        "#dfbmi = pd.DataFrame(bmi)\n",
        "\n",
        "concat = pd.concat([dfheight, dfweight, dfexercise, dfdiet, dfbmi], axis=1).reindex(dfheight.index)\n",
        "concat.to_csv(\"bmi_pred.csv\", index=False)\n",
        "concat = pd.concat([dfheight, dfweight, dfexercise, dfdiet], axis=1).reindex(dfheight.index)\n",
        "concat.to_csv(\"bmi_test.csv\", index=False)\n",
        "print(\"200 0K\")\n"
      ],
      "execution_count": 21,
      "outputs": [
        {
          "output_type": "stream",
          "text": [
            "200 0K\n"
          ],
          "name": "stdout"
        }
      ]
    },
    {
      "cell_type": "code",
      "metadata": {
        "colab": {
          "base_uri": "https://localhost:8080/",
          "height": 204
        },
        "id": "RvCfsh6VgBWl",
        "outputId": "3762e00e-0109-4a25-dc8e-9f4536004906"
      },
      "source": [
        "dfff = pd.read_csv(\"bmi_pred.csv\")\n",
        "dfff.head()"
      ],
      "execution_count": 22,
      "outputs": [
        {
          "output_type": "execute_result",
          "data": {
            "text/html": [
              "<div>\n",
              "<style scoped>\n",
              "    .dataframe tbody tr th:only-of-type {\n",
              "        vertical-align: middle;\n",
              "    }\n",
              "\n",
              "    .dataframe tbody tr th {\n",
              "        vertical-align: top;\n",
              "    }\n",
              "\n",
              "    .dataframe thead th {\n",
              "        text-align: right;\n",
              "    }\n",
              "</style>\n",
              "<table border=\"1\" class=\"dataframe\">\n",
              "  <thead>\n",
              "    <tr style=\"text-align: right;\">\n",
              "      <th></th>\n",
              "      <th>height</th>\n",
              "      <th>weight</th>\n",
              "      <th>Exercise</th>\n",
              "      <th>Diet</th>\n",
              "      <th>BMI</th>\n",
              "    </tr>\n",
              "  </thead>\n",
              "  <tbody>\n",
              "    <tr>\n",
              "      <th>0</th>\n",
              "      <td>152.0</td>\n",
              "      <td>168.0</td>\n",
              "      <td>1.0</td>\n",
              "      <td>1.0</td>\n",
              "      <td>26</td>\n",
              "    </tr>\n",
              "    <tr>\n",
              "      <th>1</th>\n",
              "      <td>210.0</td>\n",
              "      <td>120.0</td>\n",
              "      <td>0.0</td>\n",
              "      <td>1.0</td>\n",
              "      <td>26</td>\n",
              "    </tr>\n",
              "    <tr>\n",
              "      <th>2</th>\n",
              "      <td>216.0</td>\n",
              "      <td>98.0</td>\n",
              "      <td>1.0</td>\n",
              "      <td>1.0</td>\n",
              "      <td>27</td>\n",
              "    </tr>\n",
              "    <tr>\n",
              "      <th>3</th>\n",
              "      <td>217.0</td>\n",
              "      <td>75.0</td>\n",
              "      <td>1.0</td>\n",
              "      <td>0.0</td>\n",
              "      <td>27</td>\n",
              "    </tr>\n",
              "    <tr>\n",
              "      <th>4</th>\n",
              "      <td>168.0</td>\n",
              "      <td>95.0</td>\n",
              "      <td>0.0</td>\n",
              "      <td>0.0</td>\n",
              "      <td>28</td>\n",
              "    </tr>\n",
              "  </tbody>\n",
              "</table>\n",
              "</div>"
            ],
            "text/plain": [
              "   height  weight  Exercise  Diet  BMI\n",
              "0   152.0   168.0       1.0   1.0   26\n",
              "1   210.0   120.0       0.0   1.0   26\n",
              "2   216.0    98.0       1.0   1.0   27\n",
              "3   217.0    75.0       1.0   0.0   27\n",
              "4   168.0    95.0       0.0   0.0   28"
            ]
          },
          "metadata": {
            "tags": []
          },
          "execution_count": 22
        }
      ]
    },
    {
      "cell_type": "code",
      "metadata": {
        "colab": {
          "base_uri": "https://localhost:8080/",
          "height": 204
        },
        "id": "Mq6oumjSgdnp",
        "outputId": "10523c2f-f46c-42d0-fcfe-b84077074410"
      },
      "source": [
        "dggg = pd.read_csv(\"bmi_test.csv\")\n",
        "dggg.head()"
      ],
      "execution_count": 23,
      "outputs": [
        {
          "output_type": "execute_result",
          "data": {
            "text/html": [
              "<div>\n",
              "<style scoped>\n",
              "    .dataframe tbody tr th:only-of-type {\n",
              "        vertical-align: middle;\n",
              "    }\n",
              "\n",
              "    .dataframe tbody tr th {\n",
              "        vertical-align: top;\n",
              "    }\n",
              "\n",
              "    .dataframe thead th {\n",
              "        text-align: right;\n",
              "    }\n",
              "</style>\n",
              "<table border=\"1\" class=\"dataframe\">\n",
              "  <thead>\n",
              "    <tr style=\"text-align: right;\">\n",
              "      <th></th>\n",
              "      <th>height</th>\n",
              "      <th>weight</th>\n",
              "      <th>Exercise</th>\n",
              "      <th>Diet</th>\n",
              "    </tr>\n",
              "  </thead>\n",
              "  <tbody>\n",
              "    <tr>\n",
              "      <th>0</th>\n",
              "      <td>152</td>\n",
              "      <td>168</td>\n",
              "      <td>1</td>\n",
              "      <td>1</td>\n",
              "    </tr>\n",
              "    <tr>\n",
              "      <th>1</th>\n",
              "      <td>210</td>\n",
              "      <td>120</td>\n",
              "      <td>0</td>\n",
              "      <td>1</td>\n",
              "    </tr>\n",
              "    <tr>\n",
              "      <th>2</th>\n",
              "      <td>216</td>\n",
              "      <td>98</td>\n",
              "      <td>1</td>\n",
              "      <td>1</td>\n",
              "    </tr>\n",
              "    <tr>\n",
              "      <th>3</th>\n",
              "      <td>217</td>\n",
              "      <td>75</td>\n",
              "      <td>1</td>\n",
              "      <td>0</td>\n",
              "    </tr>\n",
              "    <tr>\n",
              "      <th>4</th>\n",
              "      <td>168</td>\n",
              "      <td>95</td>\n",
              "      <td>0</td>\n",
              "      <td>0</td>\n",
              "    </tr>\n",
              "  </tbody>\n",
              "</table>\n",
              "</div>"
            ],
            "text/plain": [
              "   height  weight  Exercise  Diet\n",
              "0     152     168         1     1\n",
              "1     210     120         0     1\n",
              "2     216      98         1     1\n",
              "3     217      75         1     0\n",
              "4     168      95         0     0"
            ]
          },
          "metadata": {
            "tags": []
          },
          "execution_count": 23
        }
      ]
    },
    {
      "cell_type": "code",
      "metadata": {
        "id": "oa4aZ7HSglQU"
      },
      "source": [
        "class Train:\n",
        "    def __init__(self, train, test, output):\n",
        "        self.train = train\n",
        "        self.test = test\n",
        "        self.output = output\n",
        "    \n",
        "    def trainer(self):\n",
        "        data = pd.read_csv(self.train)\n",
        "        array = data.values\n",
        "        df = pd.DataFrame(array)\n",
        "        maindf = df[[0,1,2,3]]\n",
        "        mainarray = maindf.values\n",
        "        tempdf = df[4]\n",
        "        \n",
        "        train_y = tempdf.values\n",
        "        for i in range(len(train_y)):\n",
        "            train_y[i] = str(train_y[i])\n",
        "        self.learn = linear_model.LogisticRegression(multi_class='multinomial', solver='newton-cg',max_iter=1000)\n",
        "        self.learn.fit(mainarray, train_y)\n",
        "        print(self.learn.fit(mainarray, train_y))\n",
        "        print(\"Train \\n \\t200 OK\")\n",
        "  \n",
        "    def tester(self):\n",
        "        testdata = pd.read_csv(self.test)\n",
        "        tester_array = testdata.values\n",
        "        dft = pd.DataFrame(tester_array)\n",
        "        testdf = dft[[0,1,2,3]]\n",
        "        maintestarray = testdf.values\n",
        "        self.x_predict = self.learn.predict(maintestarray)\n",
        "        for i in range(len(self.x_predict)):\n",
        "            self.x_predict[i] = str(self.x_predict[i])\n",
        "        print(\"Test \\n \\t200 OK\")\n",
        "    \n",
        "    def back_to_df(self):\n",
        "        self.bdf = pd.DataFrame(self.x_predict, columns=['Predictes BMI'])\n",
        "        self.bdf.index = self.bdf.index\n",
        "        self.bdf.to_csv(self.output, index=False)\n",
        "    def combine_data(self):\n",
        "        main = pd.read_csv(self.test)\n",
        "        dataframe = pd.DataFrame(main)\n",
        "        dataframe2 = self.bdf\n",
        "        concat = pd.concat([dataframe,dataframe2], axis=1).reindex(dataframe.index)\n",
        "        concat.to_csv(self.output, index=False)\n",
        "        print(\" \\033[92m Done successfully\")"
      ],
      "execution_count": 24,
      "outputs": []
    },
    {
      "cell_type": "code",
      "metadata": {
        "colab": {
          "base_uri": "https://localhost:8080/"
        },
        "id": "BAIbOHYPhi0L",
        "outputId": "dd8e338b-921b-4fca-c5ab-19aa265e18b2"
      },
      "source": [
        "data=\"/content/bmi_pred.csv\"\n",
        "test =\"/content/bmi_test.csv\"\n",
        "output = \"output.csv\"\n",
        "\n",
        "train = Train(data, test, output)\n",
        "train.trainer()\n",
        "train.tester()\n",
        "train.back_to_df()\n",
        "train.combine_data()"
      ],
      "execution_count": 25,
      "outputs": [
        {
          "output_type": "stream",
          "text": [
            "LogisticRegression(C=1.0, class_weight=None, dual=False, fit_intercept=True,\n",
            "                   intercept_scaling=1, l1_ratio=None, max_iter=1000,\n",
            "                   multi_class='multinomial', n_jobs=None, penalty='l2',\n",
            "                   random_state=None, solver='newton-cg', tol=0.0001, verbose=0,\n",
            "                   warm_start=False)\n",
            "Train \n",
            " \t200 OK\n",
            "Test \n",
            " \t200 OK\n",
            " \u001b[92m Done successfully\n"
          ],
          "name": "stdout"
        }
      ]
    },
    {
      "cell_type": "code",
      "metadata": {
        "colab": {
          "base_uri": "https://localhost:8080/",
          "height": 265
        },
        "id": "unG_h4J5hni7",
        "outputId": "6fd6ac17-9e7c-4a13-9f42-e71b87436ab3"
      },
      "source": [
        "mercy = pd.read_csv(\"/content/output.csv\")\n",
        "mercy.plot()\n",
        "plt.show()"
      ],
      "execution_count": 26,
      "outputs": [
        {
          "output_type": "display_data",
          "data": {
            "image/png": "[encoded data removed]",
            "text/plain": [
              "<Figure size 432x288 with 1 Axes>"
            ]
          },
          "metadata": {
            "tags": [],
            "needs_background": "light"
          }
        }
      ]
    }
  ]
}