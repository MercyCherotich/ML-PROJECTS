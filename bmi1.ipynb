{
  "nbformat": 4,
  "nbformat_minor": 0,
  "metadata": {
    "colab": {
      "name": "Untitled1.ipynb",
      "provenance": [],
      "authorship_tag": "ABX9TyNctHY88i6qW8fYurH+lW2q",
      "include_colab_link": true
    },
    "kernelspec": {
      "name": "python3",
      "display_name": "Python 3"
    },
    "language_info": {
      "name": "python"
    }
  },
  "cells": [
    {
      "cell_type": "markdown",
      "metadata": {
        "id": "view-in-github",
        "colab_type": "text"
      },
      "source": [
        "<a href=\"https://colab.research.google.com/github/MercyCherotich/ML-PROJECTS/blob/main/bmi1.ipynb\" target=\"_parent\"><img src=\"https://colab.research.google.com/assets/colab-badge.svg\" alt=\"Open In Colab\"/></a>"
      ]
    },
    {
      "cell_type": "code",
      "metadata": {
        "id": "6IQ9UYUietrC"
      },
      "source": [
        "import pandas as pd\n",
        "import numpy as np\n",
        "from sklearn import datasets, linear_model\n",
        "from sklearn.metrics import accuracy_score\n",
        "import matplotlib.pyplot as plt"
      ],
      "execution_count": 1,
      "outputs": []
    },
    {
      "cell_type": "code",
      "metadata": {
        "id": "TE0MwlZwe56v"
      },
      "source": [
        "class GenerateData:\n",
        "    \n",
        "    def height(self):\n",
        "        high = 220\n",
        "        low = 150\n",
        "        df = pd.DataFrame(np.random.randint(low, high, size=(1000, 1)), columns=[\"height\"])\n",
        "        df.to_csv(\"height.csv\", index=False)\n",
        "        return True\n",
        "    \n",
        "    def weight(self):\n",
        "        high = 200\n",
        "        low = 40\n",
        "        df = pd.DataFrame(np.random.randint(low, high, size=(1000, 1)), columns=[\"weight\"])\n",
        "        df.to_csv(\"weight.csv\", index=False)\n",
        "        return True\n",
        "    \n",
        "    def exercise(self):\n",
        "        ccc = [1, 0]\n",
        "        df = pd.DataFrame(np.random.choice(ccc, size=1000),columns=['Exercise'])\n",
        "        df.to_csv(\"exercise.csv\", index=False)\n",
        "        return True\n",
        "    \n",
        "    def diet(self):\n",
        "        ccc = [1, 0]\n",
        "        df = pd.DataFrame(np.random.choice(ccc, size=1000),columns=['Diet'])\n",
        "        df.to_csv(\"diet.csv\", index=False)\n",
        "        return True\n",
        "        \n",
        "    def bmi(self):\n",
        "        low = 18\n",
        "        high = 33\n",
        "        df = pd.DataFrame(np.random.randint(low, high, size=(1000, 1)), columns=[\"BMI\"])\n",
        "        df.to_csv(\"bmi.csv\", index=False)\n",
        "        return True\n",
        "        pass\n",
        "        "
      ],
      "execution_count": 3,
      "outputs": []
    },
    {
      "cell_type": "code",
      "metadata": {
        "colab": {
          "base_uri": "https://localhost:8080/"
        },
        "id": "6lMjm4Psfgms",
        "outputId": "c78a2146-afe6-48f4-ad1d-2e841f1e53ba"
      },
      "source": [
        "gg = GenerateData()\n",
        "gg.height()\n",
        "gg.weight()\n",
        "gg.exercise()\n",
        "gg.diet()\n",
        "gg.bmi()"
      ],
      "execution_count": 4,
      "outputs": [
        {
          "output_type": "execute_result",
          "data": {
            "text/plain": [
              "True"
            ]
          },
          "metadata": {
            "tags": []
          },
          "execution_count": 4
        }
      ]
    },
    {
      "cell_type": "code",
      "metadata": {
        "colab": {
          "base_uri": "https://localhost:8080/"
        },
        "id": "tsEgDrJBfqLi",
        "outputId": "ba0f7f44-2c6e-49b1-a179-8d28e7220e55"
      },
      "source": [
        "height = pd.read_csv(\"height.csv\")\n",
        "weight = pd.read_csv(\"weight.csv\")\n",
        "exercise = pd.read_csv(\"exercise.csv\")\n",
        "diet = pd.read_csv(\"diet.csv\")\n",
        "bmi = pd.read_csv(\"bmi.csv\")\n",
        "\n",
        "dfheight = pd.DataFrame(height)\n",
        "dfweight = pd.DataFrame(weight)\n",
        "dfexercise = pd.DataFrame(exercise)\n",
        "dfdiet = pd.DataFrame(diet)\n",
        "dfbmi = pd.DataFrame(bmi)\n",
        "\n",
        "concat = pd.concat([dfheight, dfweight, dfexercise, dfdiet, dfbmi], axis=1).reindex(dfheight.index)\n",
        "concat.to_csv(\"bmi_pred.csv\", index=False)\n",
        "concat = pd.concat([dfheight, dfweight, dfexercise, dfdiet], axis=1).reindex(dfheight.index)\n",
        "concat.to_csv(\"bmi_test.csv\", index=False)\n",
        "print(\"200 0K\")\n"
      ],
      "execution_count": 9,
      "outputs": [
        {
          "output_type": "stream",
          "text": [
            "200 0K\n"
          ],
          "name": "stdout"
        }
      ]
    },
    {
      "cell_type": "code",
      "metadata": {
        "colab": {
          "base_uri": "https://localhost:8080/",
          "height": 204
        },
        "id": "RvCfsh6VgBWl",
        "outputId": "5d1d6de6-0d94-4095-ab75-0256c63eb80c"
      },
      "source": [
        "dfff = pd.read_csv(\"bmi_pred.csv\")\n",
        "dfff.head()"
      ],
      "execution_count": 10,
      "outputs": [
        {
          "output_type": "execute_result",
          "data": {
            "text/html": [
              "<div>\n",
              "<style scoped>\n",
              "    .dataframe tbody tr th:only-of-type {\n",
              "        vertical-align: middle;\n",
              "    }\n",
              "\n",
              "    .dataframe tbody tr th {\n",
              "        vertical-align: top;\n",
              "    }\n",
              "\n",
              "    .dataframe thead th {\n",
              "        text-align: right;\n",
              "    }\n",
              "</style>\n",
              "<table border=\"1\" class=\"dataframe\">\n",
              "  <thead>\n",
              "    <tr style=\"text-align: right;\">\n",
              "      <th></th>\n",
              "      <th>height</th>\n",
              "      <th>weight</th>\n",
              "      <th>Exercise</th>\n",
              "      <th>Diet</th>\n",
              "      <th>BMI</th>\n",
              "    </tr>\n",
              "  </thead>\n",
              "  <tbody>\n",
              "    <tr>\n",
              "      <th>0</th>\n",
              "      <td>219</td>\n",
              "      <td>60</td>\n",
              "      <td>0</td>\n",
              "      <td>0</td>\n",
              "      <td>31</td>\n",
              "    </tr>\n",
              "    <tr>\n",
              "      <th>1</th>\n",
              "      <td>189</td>\n",
              "      <td>122</td>\n",
              "      <td>1</td>\n",
              "      <td>1</td>\n",
              "      <td>18</td>\n",
              "    </tr>\n",
              "    <tr>\n",
              "      <th>2</th>\n",
              "      <td>196</td>\n",
              "      <td>61</td>\n",
              "      <td>1</td>\n",
              "      <td>1</td>\n",
              "      <td>29</td>\n",
              "    </tr>\n",
              "    <tr>\n",
              "      <th>3</th>\n",
              "      <td>211</td>\n",
              "      <td>176</td>\n",
              "      <td>0</td>\n",
              "      <td>1</td>\n",
              "      <td>32</td>\n",
              "    </tr>\n",
              "    <tr>\n",
              "      <th>4</th>\n",
              "      <td>161</td>\n",
              "      <td>131</td>\n",
              "      <td>0</td>\n",
              "      <td>0</td>\n",
              "      <td>31</td>\n",
              "    </tr>\n",
              "  </tbody>\n",
              "</table>\n",
              "</div>"
            ],
            "text/plain": [
              "   height  weight  Exercise  Diet  BMI\n",
              "0     219      60         0     0   31\n",
              "1     189     122         1     1   18\n",
              "2     196      61         1     1   29\n",
              "3     211     176         0     1   32\n",
              "4     161     131         0     0   31"
            ]
          },
          "metadata": {
            "tags": []
          },
          "execution_count": 10
        }
      ]
    },
    {
      "cell_type": "code",
      "metadata": {
        "colab": {
          "base_uri": "https://localhost:8080/",
          "height": 204
        },
        "id": "Mq6oumjSgdnp",
        "outputId": "97548366-193f-434b-c9ae-a06471997ead"
      },
      "source": [
        "dggg = pd.read_csv(\"bmi_test.csv\")\n",
        "dggg.head()"
      ],
      "execution_count": 11,
      "outputs": [
        {
          "output_type": "execute_result",
          "data": {
            "text/html": [
              "<div>\n",
              "<style scoped>\n",
              "    .dataframe tbody tr th:only-of-type {\n",
              "        vertical-align: middle;\n",
              "    }\n",
              "\n",
              "    .dataframe tbody tr th {\n",
              "        vertical-align: top;\n",
              "    }\n",
              "\n",
              "    .dataframe thead th {\n",
              "        text-align: right;\n",
              "    }\n",
              "</style>\n",
              "<table border=\"1\" class=\"dataframe\">\n",
              "  <thead>\n",
              "    <tr style=\"text-align: right;\">\n",
              "      <th></th>\n",
              "      <th>height</th>\n",
              "      <th>weight</th>\n",
              "      <th>Exercise</th>\n",
              "      <th>Diet</th>\n",
              "    </tr>\n",
              "  </thead>\n",
              "  <tbody>\n",
              "    <tr>\n",
              "      <th>0</th>\n",
              "      <td>219</td>\n",
              "      <td>60</td>\n",
              "      <td>0</td>\n",
              "      <td>0</td>\n",
              "    </tr>\n",
              "    <tr>\n",
              "      <th>1</th>\n",
              "      <td>189</td>\n",
              "      <td>122</td>\n",
              "      <td>1</td>\n",
              "      <td>1</td>\n",
              "    </tr>\n",
              "    <tr>\n",
              "      <th>2</th>\n",
              "      <td>196</td>\n",
              "      <td>61</td>\n",
              "      <td>1</td>\n",
              "      <td>1</td>\n",
              "    </tr>\n",
              "    <tr>\n",
              "      <th>3</th>\n",
              "      <td>211</td>\n",
              "      <td>176</td>\n",
              "      <td>0</td>\n",
              "      <td>1</td>\n",
              "    </tr>\n",
              "    <tr>\n",
              "      <th>4</th>\n",
              "      <td>161</td>\n",
              "      <td>131</td>\n",
              "      <td>0</td>\n",
              "      <td>0</td>\n",
              "    </tr>\n",
              "  </tbody>\n",
              "</table>\n",
              "</div>"
            ],
            "text/plain": [
              "   height  weight  Exercise  Diet\n",
              "0     219      60         0     0\n",
              "1     189     122         1     1\n",
              "2     196      61         1     1\n",
              "3     211     176         0     1\n",
              "4     161     131         0     0"
            ]
          },
          "metadata": {
            "tags": []
          },
          "execution_count": 11
        }
      ]
    },
    {
      "cell_type": "code",
      "metadata": {
        "id": "oa4aZ7HSglQU"
      },
      "source": [
        "class Train:\n",
        "    def __init__(self, train, test, output):\n",
        "        self.train = train\n",
        "        self.test = test\n",
        "        self.output = output\n",
        "    \n",
        "    def trainer(self):\n",
        "        data = pd.read_csv(self.train)\n",
        "        array = data.values\n",
        "        df = pd.DataFrame(array)\n",
        "        maindf = df[[0,1,2,3]]\n",
        "        mainarray = maindf.values\n",
        "        tempdf = df[4]\n",
        "        \n",
        "        train_y = tempdf.values\n",
        "        for i in range(len(train_y)):\n",
        "            train_y[i] = str(train_y[i])\n",
        "        self.learn = linear_model.LogisticRegression(multi_class='multinomial', solver='newton-cg',max_iter=1000)\n",
        "        self.learn.fit(mainarray, train_y)\n",
        "        print(self.learn.fit(mainarray, train_y))\n",
        "        print(\"Train \\n \\t200 OK\")\n",
        "  \n",
        "    def tester(self):\n",
        "        testdata = pd.read_csv(self.test)\n",
        "        tester_array = testdata.values\n",
        "        dft = pd.DataFrame(tester_array)\n",
        "        testdf = dft[[0,1,2,3]]\n",
        "        maintestarray = testdf.values\n",
        "        self.x_predict = self.learn.predict(maintestarray)\n",
        "        for i in range(len(self.x_predict)):\n",
        "            self.x_predict[i] = str(self.x_predict[i])\n",
        "        print(\"Test \\n \\t200 OK\")\n",
        "    \n",
        "    def back_to_df(self):\n",
        "        self.bdf = pd.DataFrame(self.x_predict, columns=['Predictes BMI'])\n",
        "        self.bdf.index = self.bdf.index\n",
        "        self.bdf.to_csv(self.output, index=False)\n",
        "    def combine_data(self):\n",
        "        main = pd.read_csv(self.test)\n",
        "        dataframe = pd.DataFrame(main)\n",
        "        dataframe2 = self.bdf\n",
        "        concat = pd.concat([dataframe,dataframe2], axis=1).reindex(dataframe.index)\n",
        "        concat.to_csv(self.output, index=False)\n",
        "        print(\" \\033[92m Done successfully\")"
      ],
      "execution_count": 13,
      "outputs": []
    },
    {
      "cell_type": "code",
      "metadata": {
        "colab": {
          "base_uri": "https://localhost:8080/"
        },
        "id": "BAIbOHYPhi0L",
        "outputId": "2ba2f40e-8a46-4a38-cd6a-38fcbe761ae1"
      },
      "source": [
        "data=\"/content/bmi_pred.csv\"\n",
        "test =\"/content/bmi_test.csv\"\n",
        "output = \"output.csv\"\n",
        "\n",
        "train = Train(data, test, output)\n",
        "train.trainer()\n",
        "train.tester()\n",
        "train.back_to_df()\n",
        "train.combine_data()"
      ],
      "execution_count": 14,
      "outputs": [
        {
          "output_type": "stream",
          "text": [
            "LogisticRegression(C=1.0, class_weight=None, dual=False, fit_intercept=True,\n",
            "                   intercept_scaling=1, l1_ratio=None, max_iter=1000,\n",
            "                   multi_class='multinomial', n_jobs=None, penalty='l2',\n",
            "                   random_state=None, solver='newton-cg', tol=0.0001, verbose=0,\n",
            "                   warm_start=False)\n",
            "Train \n",
            " \t200 OK\n",
            "Test \n",
            " \t200 OK\n",
            " \u001b[92m Done successfully\n"
          ],
          "name": "stdout"
        }
      ]
    },
    {
      "cell_type": "code",
      "metadata": {
        "colab": {
          "base_uri": "https://localhost:8080/",
          "height": 265
        },
        "id": "unG_h4J5hni7",
        "outputId": "10e19d12-63ef-4b7a-a6dd-b1bb3c8f491d"
      },
      "source": [
        "mercy = pd.read_csv(\"/content/output.csv\")\n",
        "mercy.plot()\n",
        "plt.show()"
      ],
      "execution_count": 15,
      "outputs": [
        {
          "output_type": "display_data",
          "data": {
            "image/png": "[encoded data removed]",
            "text/plain": [
              "<Figure size 432x288 with 1 Axes>"
            ]
          },
          "metadata": {
            "tags": [],
            "needs_background": "light"
          }
        }
      ]
    }
  ]
}